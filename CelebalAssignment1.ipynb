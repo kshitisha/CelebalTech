{
  "nbformat": 4,
  "nbformat_minor": 0,
  "metadata": {
    "colab": {
      "provenance": []
    },
    "kernelspec": {
      "name": "python3",
      "display_name": "Python 3"
    },
    "language_info": {
      "name": "python"
    }
  },
  "cells": [
    {
      "cell_type": "code",
      "source": [
        "def lowertriangle(n):\n",
        "    for i in range(1, n + 1):\n",
        "        print(\"*\" * i)\n",
        "print(\"this will be the pattern of lower triangle\")\n",
        "lowertriangle(5)\n"
      ],
      "metadata": {
        "colab": {
          "base_uri": "https://localhost:8080/"
        },
        "id": "P_-BtXU5IVtY",
        "outputId": "0aa9f6d9-edb4-44c7-dcc3-5adcbd5e4241"
      },
      "execution_count": 5,
      "outputs": [
        {
          "output_type": "stream",
          "name": "stdout",
          "text": [
            "this will be the pattern of lower triangle\n",
            "*\n",
            "**\n",
            "***\n",
            "****\n",
            "*****\n"
          ]
        }
      ]
    },
    {
      "cell_type": "code",
      "source": [
        "def uppertriangle(n):\n",
        "    for i in range(n, 0, -1):\n",
        "        print(\"*\" * i)\n",
        "print(\"this will be the pattern of upper triangle\")\n",
        "uppertriangle(5)\n"
      ],
      "metadata": {
        "colab": {
          "base_uri": "https://localhost:8080/"
        },
        "id": "J6Yk1Nm6Im5H",
        "outputId": "6888efb3-0fe1-44c2-bc53-7dddb7a9fb2a"
      },
      "execution_count": 4,
      "outputs": [
        {
          "output_type": "stream",
          "name": "stdout",
          "text": [
            "this will be the pattern of upper triangle\n",
            "*****\n",
            "****\n",
            "***\n",
            "**\n",
            "*\n"
          ]
        }
      ]
    },
    {
      "cell_type": "code",
      "source": [
        "def pyramid(n):\n",
        "    for i in range(1, n + 1):\n",
        "        spaces = ' ' * (n - i)\n",
        "        stars = '*' * (2 * i - 1)\n",
        "        print(spaces + stars)\n",
        "print(\"this will be the pattern of a pyramid\")\n",
        "pyramid(5)\n"
      ],
      "metadata": {
        "colab": {
          "base_uri": "https://localhost:8080/"
        },
        "id": "lQTnPZhCIzLv",
        "outputId": "40a93bc4-902b-476a-e892-b8c3252fc36f"
      },
      "execution_count": 6,
      "outputs": [
        {
          "output_type": "stream",
          "name": "stdout",
          "text": [
            "this will be the pattern of a pyramid\n",
            "    *\n",
            "   ***\n",
            "  *****\n",
            " *******\n",
            "*********\n"
          ]
        }
      ]
    }
  ]
}