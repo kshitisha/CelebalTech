{
  "nbformat": 4,
  "nbformat_minor": 0,
  "metadata": {
    "colab": {
      "provenance": [],
      "gpuType": "T4"
    },
    "kernelspec": {
      "name": "python3",
      "display_name": "Python 3"
    },
    "language_info": {
      "name": "python"
    },
    "accelerator": "GPU"
  },
  "cells": [
    {
      "cell_type": "code",
      "source": [
        "import numpy as np\n",
        "import pandas as pd\n",
        "import matplotlib.pyplot as plt\n",
        "import seaborn as sns\n",
        "\n",
        "from sklearn.preprocessing import LabelEncoder, StandardScaler\n",
        "from sklearn.impute import SimpleImputer\n",
        "from sklearn.model_selection import train_test_split, cross_val_score\n",
        "from sklearn.linear_model import LinearRegression\n",
        "from sklearn.ensemble import RandomForestRegressor\n",
        "from xgboost import XGBRegressor\n",
        "from sklearn.metrics import mean_squared_error\n",
        "\n",
        "\n",
        "# Load datasets\n",
        "train = pd.read_csv('/train (1).csv')\n",
        "test = pd.read_csv('/test (1).csv')\n",
        "print(\"Train shape:\", train.shape)\n",
        "print(\"Test shape:\", test.shape)\n",
        "\n",
        "# Separate target\n",
        "y = train['SalePrice']\n",
        "train.drop(['SalePrice'], axis=1, inplace=True)\n",
        "\n",
        "# Combine datasets\n",
        "combined = pd.concat([train, test], keys=['train', 'test'])\n",
        "print(\"Combined shape:\", combined.shape)\n",
        "\n",
        "\n",
        "# Fill missing values\n",
        "# Fill categorical NAs with 'None'\n",
        "cat_features = combined.select_dtypes(include=['object']).columns\n",
        "combined[cat_features] = combined[cat_features].fillna('None')\n",
        "\n",
        "# Fill numerical NAs with median\n",
        "num_features = combined.select_dtypes(include=[np.number]).columns\n",
        "imputer = SimpleImputer(strategy='median')\n",
        "combined[num_features] = imputer.fit_transform(combined[num_features])\n",
        "\n",
        "\n",
        "# Feature engineering\n",
        "combined['TotalSF'] = combined['TotalBsmtSF'] + combined['1stFlrSF'] + combined['2ndFlrSF']\n",
        "\n",
        "# Create age features\n",
        "combined['HouseAge'] = combined['YrSold'] - combined['YearBuilt']\n",
        "combined['RemodAge'] = combined['YrSold'] - combined['YearRemodAdd']\n",
        "combined['GarageAge'] = combined['YrSold'] - combined['GarageYrBlt']\n",
        "combined.drop(['YearBuilt', 'YearRemodAdd', 'GarageYrBlt'], axis=1, inplace=True)\n",
        "\n",
        "\n",
        "# Ordinal mapping for quality ratings\n",
        "qual_map = {'Ex':5, 'Gd':4, 'TA':3, 'Fa':2, 'Po':1, 'None':0}\n",
        "for col in ['ExterQual', 'ExterCond', 'BsmtQual', 'BsmtCond', 'HeatingQC',\n",
        "            'KitchenQual', 'FireplaceQu', 'GarageQual', 'GarageCond', 'PoolQC']:\n",
        "    combined[col] = combined[col].map(qual_map)\n",
        "\n",
        "\n",
        "# Convert MSSubClass to string\n",
        "combined['MSSubClass'] = combined['MSSubClass'].astype(str)\n",
        "\n",
        "# One-hot encode categorical variables\n",
        "combined = pd.get_dummies(combined)\n",
        "\n",
        "# Scale numeric features (recalculate num_features AFTER dropping columns)\n",
        "num_features = combined.select_dtypes(include=['int64', 'float64']).columns\n",
        "\n",
        "scaler = StandardScaler()\n",
        "combined[num_features] = scaler.fit_transform(combined[num_features])\n",
        "\n",
        "\n",
        "# Split combined back into train and test\n",
        "train_processed = combined.xs('train')\n",
        "test_processed = combined.xs('test')\n",
        "train_processed['SalePrice'] = y\n",
        "\n",
        "# Save preprocessed data\n",
        "print(\"Preprocessing complete.\")\n",
        "train_processed.to_csv('/content/train_preprocessed.csv', index=False)\n",
        "test_processed.to_csv('/content/test_preprocessed.csv', index=False)\n",
        "print(\"Saved train_preprocessed.csv & test_preprocessed.csv\")\n",
        "\n",
        "\n",
        "# Prepare data for modeling\n",
        "X = train_processed.drop('SalePrice', axis=1)\n",
        "y = train_processed['SalePrice']\n",
        "\n",
        "X_train, X_val, y_train, y_val = train_test_split(X, y, test_size=0.2, random_state=42)\n",
        "\n",
        "\n",
        "# Linear Regression\n",
        "lr = LinearRegression()\n",
        "lr.fit(X_train, y_train)\n",
        "lr_preds = lr.predict(X_val)\n",
        "lr_rmse = np.sqrt(mean_squared_error(y_val, lr_preds))\n",
        "print(f\"Linear Regression RMSE: {lr_rmse:.2f}\")\n",
        "\n",
        "\n",
        "# Random Forest\n",
        "rf = RandomForestRegressor(n_estimators=100, random_state=42)\n",
        "rf.fit(X_train, y_train)\n",
        "rf_preds = rf.predict(X_val)\n",
        "rf_rmse = np.sqrt(mean_squared_error(y_val, rf_preds))\n",
        "print(f\"Random Forest RMSE: {rf_rmse:.2f}\")\n",
        "\n",
        "\n",
        "# XGBoost\n",
        "xgb = XGBRegressor(n_estimators=100, learning_rate=0.05, random_state=42)\n",
        "xgb.fit(X_train, y_train)\n",
        "xgb_preds = xgb.predict(X_val)\n",
        "xgb_rmse = np.sqrt(mean_squared_error(y_val, xgb_preds))\n",
        "print(f\"XGBoost RMSE: {xgb_rmse:.2f}\")\n",
        "\n",
        "# Cross-validation\n",
        "cv_scores = cross_val_score(xgb, X, y, cv=5, scoring='neg_root_mean_squared_error')\n",
        "print(f\"XGBoost CV RMSE: {-cv_scores.mean():.2f}\")\n",
        "\n",
        "# Final predictions\n",
        "final_preds = xgb.predict(test_processed)\n",
        "submission = pd.read_csv('/sample_submission.csv')\n",
        "submission['SalePrice'] = final_preds\n",
        "submission.to_csv('/sample_submission.csv', index=False)\n",
        "print(\"submission.csv saved for kaggle!\")\n"
      ],
      "metadata": {
        "colab": {
          "base_uri": "https://localhost:8080/"
        },
        "id": "naRMNyvkjIGq",
        "outputId": "c1a1770e-c193-4c57-b4cd-f2ee9b56a9cf"
      },
      "execution_count": 49,
      "outputs": [
        {
          "output_type": "stream",
          "name": "stdout",
          "text": [
            "Train shape: (1460, 81)\n",
            "Test shape: (1459, 80)\n",
            "Combined shape: (2919, 80)\n",
            "Preprocessing complete.\n"
          ]
        },
        {
          "output_type": "stream",
          "name": "stderr",
          "text": [
            "/tmp/ipython-input-49-4057483180.py:74: SettingWithCopyWarning: \n",
            "A value is trying to be set on a copy of a slice from a DataFrame.\n",
            "Try using .loc[row_indexer,col_indexer] = value instead\n",
            "\n",
            "See the caveats in the documentation: https://pandas.pydata.org/pandas-docs/stable/user_guide/indexing.html#returning-a-view-versus-a-copy\n",
            "  train_processed['SalePrice'] = y\n"
          ]
        },
        {
          "output_type": "stream",
          "name": "stdout",
          "text": [
            "Saved train_preprocessed.csv & test_preprocessed.csv\n",
            "Linear Regression RMSE: 30147.53\n",
            "Random Forest RMSE: 30130.75\n",
            "XGBoost RMSE: 26834.05\n",
            "XGBoost CV RMSE: 27914.25\n",
            "submission.csv saved for kaggle!\n"
          ]
        }
      ]
    },
    {
      "cell_type": "code",
      "source": [
        "from google.colab import files\n",
        "files.download('/sample_submission.csv')\n"
      ],
      "metadata": {
        "colab": {
          "base_uri": "https://localhost:8080/",
          "height": 17
        },
        "id": "CmIbZZ8Mov1P",
        "outputId": "3ce59a9c-32df-44f4-b072-297871a66a19"
      },
      "execution_count": 50,
      "outputs": [
        {
          "output_type": "display_data",
          "data": {
            "text/plain": [
              "<IPython.core.display.Javascript object>"
            ],
            "application/javascript": [
              "\n",
              "    async function download(id, filename, size) {\n",
              "      if (!google.colab.kernel.accessAllowed) {\n",
              "        return;\n",
              "      }\n",
              "      const div = document.createElement('div');\n",
              "      const label = document.createElement('label');\n",
              "      label.textContent = `Downloading \"${filename}\": `;\n",
              "      div.appendChild(label);\n",
              "      const progress = document.createElement('progress');\n",
              "      progress.max = size;\n",
              "      div.appendChild(progress);\n",
              "      document.body.appendChild(div);\n",
              "\n",
              "      const buffers = [];\n",
              "      let downloaded = 0;\n",
              "\n",
              "      const channel = await google.colab.kernel.comms.open(id);\n",
              "      // Send a message to notify the kernel that we're ready.\n",
              "      channel.send({})\n",
              "\n",
              "      for await (const message of channel.messages) {\n",
              "        // Send a message to notify the kernel that we're ready.\n",
              "        channel.send({})\n",
              "        if (message.buffers) {\n",
              "          for (const buffer of message.buffers) {\n",
              "            buffers.push(buffer);\n",
              "            downloaded += buffer.byteLength;\n",
              "            progress.value = downloaded;\n",
              "          }\n",
              "        }\n",
              "      }\n",
              "      const blob = new Blob(buffers, {type: 'application/binary'});\n",
              "      const a = document.createElement('a');\n",
              "      a.href = window.URL.createObjectURL(blob);\n",
              "      a.download = filename;\n",
              "      div.appendChild(a);\n",
              "      a.click();\n",
              "      div.remove();\n",
              "    }\n",
              "  "
            ]
          },
          "metadata": {}
        },
        {
          "output_type": "display_data",
          "data": {
            "text/plain": [
              "<IPython.core.display.Javascript object>"
            ],
            "application/javascript": [
              "download(\"download_c8a576a0-f7b2-4dc7-a9fb-697777221701\", \"sample_submission.csv\", 21650)"
            ]
          },
          "metadata": {}
        }
      ]
    }
  ]
}